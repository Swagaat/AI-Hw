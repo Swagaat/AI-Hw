{
 "cells": [
  {
   "cell_type": "markdown",
   "id": "8ee0fc14-9572-45c3-85ee-70ac95060626",
   "metadata": {},
   "source": [
    "Q1. You are given a dataset named employee_data with columns 'Name', 'Age', 'Salary', and 'Department'. How would you select and display the names of employees who are older than 30 and work in the 'Sales' department?"
   ]
  },
  {
   "cell_type": "code",
   "execution_count": 4,
   "id": "a5a2e8dd-6b95-4188-ab15-4fbfa35eb0ed",
   "metadata": {
    "tags": []
   },
   "outputs": [],
   "source": [
    "# Sample Data\n",
    "import pandas as pd\n",
    "\n",
    "data = {'Name': ['Alice', 'Bob', 'Charlie'],\n",
    "        'Age': [32, 28, 35],\n",
    "        'Salary': [60000, 75000, 90000],\n",
    "        'Department': ['Sales', 'IT', 'Sales']}\n",
    "\n",
    "employee_data = pd.DataFrame(data)\n"
   ]
  },
  {
   "cell_type": "code",
   "execution_count": 5,
   "id": "49b0c9a4-d0b5-4f51-99c0-66e49f4346c3",
   "metadata": {},
   "outputs": [
    {
     "data": {
      "text/html": [
       "<div>\n",
       "<style scoped>\n",
       "    .dataframe tbody tr th:only-of-type {\n",
       "        vertical-align: middle;\n",
       "    }\n",
       "\n",
       "    .dataframe tbody tr th {\n",
       "        vertical-align: top;\n",
       "    }\n",
       "\n",
       "    .dataframe thead th {\n",
       "        text-align: right;\n",
       "    }\n",
       "</style>\n",
       "<table border=\"1\" class=\"dataframe\">\n",
       "  <thead>\n",
       "    <tr style=\"text-align: right;\">\n",
       "      <th></th>\n",
       "      <th>Name</th>\n",
       "      <th>Age</th>\n",
       "      <th>Salary</th>\n",
       "      <th>Department</th>\n",
       "    </tr>\n",
       "  </thead>\n",
       "  <tbody>\n",
       "    <tr>\n",
       "      <th>0</th>\n",
       "      <td>Alice</td>\n",
       "      <td>32</td>\n",
       "      <td>60000</td>\n",
       "      <td>Sales</td>\n",
       "    </tr>\n",
       "    <tr>\n",
       "      <th>1</th>\n",
       "      <td>Bob</td>\n",
       "      <td>28</td>\n",
       "      <td>75000</td>\n",
       "      <td>IT</td>\n",
       "    </tr>\n",
       "    <tr>\n",
       "      <th>2</th>\n",
       "      <td>Charlie</td>\n",
       "      <td>35</td>\n",
       "      <td>90000</td>\n",
       "      <td>Sales</td>\n",
       "    </tr>\n",
       "  </tbody>\n",
       "</table>\n",
       "</div>"
      ],
      "text/plain": [
       "      Name  Age  Salary Department\n",
       "0    Alice   32   60000      Sales\n",
       "1      Bob   28   75000         IT\n",
       "2  Charlie   35   90000      Sales"
      ]
     },
     "execution_count": 5,
     "metadata": {},
     "output_type": "execute_result"
    }
   ],
   "source": [
    "employee_data"
   ]
  },
  {
   "cell_type": "code",
   "execution_count": 6,
   "id": "fd36a504",
   "metadata": {},
   "outputs": [
    {
     "data": {
      "text/html": [
       "<div>\n",
       "<style scoped>\n",
       "    .dataframe tbody tr th:only-of-type {\n",
       "        vertical-align: middle;\n",
       "    }\n",
       "\n",
       "    .dataframe tbody tr th {\n",
       "        vertical-align: top;\n",
       "    }\n",
       "\n",
       "    .dataframe thead th {\n",
       "        text-align: right;\n",
       "    }\n",
       "</style>\n",
       "<table border=\"1\" class=\"dataframe\">\n",
       "  <thead>\n",
       "    <tr style=\"text-align: right;\">\n",
       "      <th></th>\n",
       "      <th>Name</th>\n",
       "      <th>Age</th>\n",
       "      <th>Salary</th>\n",
       "      <th>Department</th>\n",
       "    </tr>\n",
       "  </thead>\n",
       "  <tbody>\n",
       "    <tr>\n",
       "      <th>0</th>\n",
       "      <td>Alice</td>\n",
       "      <td>32</td>\n",
       "      <td>60000</td>\n",
       "      <td>Sales</td>\n",
       "    </tr>\n",
       "    <tr>\n",
       "      <th>2</th>\n",
       "      <td>Charlie</td>\n",
       "      <td>35</td>\n",
       "      <td>90000</td>\n",
       "      <td>Sales</td>\n",
       "    </tr>\n",
       "  </tbody>\n",
       "</table>\n",
       "</div>"
      ],
      "text/plain": [
       "      Name  Age  Salary Department\n",
       "0    Alice   32   60000      Sales\n",
       "2  Charlie   35   90000      Sales"
      ]
     },
     "execution_count": 6,
     "metadata": {},
     "output_type": "execute_result"
    }
   ],
   "source": [
    "employee_data[(employee_data['Age']>30) & (employee_data['Department']=='Sales')]"
   ]
  },
  {
   "cell_type": "markdown",
   "id": "bb29844f-110e-468c-b25b-1717bcf6db2a",
   "metadata": {},
   "source": [
    "Q2. In a dataset named customer_data, there are missing values in the 'Income' column. How would you handle these missing values, and then create a new column 'Income_Category' that labels customers as 'Low', 'Medium', or 'High' income based on predefined thresholds?"
   ]
  },
  {
   "cell_type": "code",
   "execution_count": 7,
   "id": "8ab060a8-a0ea-4b4b-af21-e38305028a90",
   "metadata": {
    "tags": []
   },
   "outputs": [],
   "source": [
    "# Sample Data\n",
    "import pandas as pd\n",
    "import numpy as np\n",
    "\n",
    "data = {'CustomerID': [1, 2, 3, 4],\n",
    "        'Income': [50000, np.nan, 75000, np.nan]}\n",
    "customer_data = pd.DataFrame(data)\n",
    "\n"
   ]
  },
  {
   "cell_type": "code",
   "execution_count": 8,
   "id": "980de770",
   "metadata": {},
   "outputs": [
    {
     "data": {
      "text/html": [
       "<div>\n",
       "<style scoped>\n",
       "    .dataframe tbody tr th:only-of-type {\n",
       "        vertical-align: middle;\n",
       "    }\n",
       "\n",
       "    .dataframe tbody tr th {\n",
       "        vertical-align: top;\n",
       "    }\n",
       "\n",
       "    .dataframe thead th {\n",
       "        text-align: right;\n",
       "    }\n",
       "</style>\n",
       "<table border=\"1\" class=\"dataframe\">\n",
       "  <thead>\n",
       "    <tr style=\"text-align: right;\">\n",
       "      <th></th>\n",
       "      <th>CustomerID</th>\n",
       "      <th>Income</th>\n",
       "    </tr>\n",
       "  </thead>\n",
       "  <tbody>\n",
       "    <tr>\n",
       "      <th>0</th>\n",
       "      <td>1</td>\n",
       "      <td>50000.0</td>\n",
       "    </tr>\n",
       "    <tr>\n",
       "      <th>1</th>\n",
       "      <td>2</td>\n",
       "      <td>NaN</td>\n",
       "    </tr>\n",
       "    <tr>\n",
       "      <th>2</th>\n",
       "      <td>3</td>\n",
       "      <td>75000.0</td>\n",
       "    </tr>\n",
       "    <tr>\n",
       "      <th>3</th>\n",
       "      <td>4</td>\n",
       "      <td>NaN</td>\n",
       "    </tr>\n",
       "  </tbody>\n",
       "</table>\n",
       "</div>"
      ],
      "text/plain": [
       "   CustomerID   Income\n",
       "0           1  50000.0\n",
       "1           2      NaN\n",
       "2           3  75000.0\n",
       "3           4      NaN"
      ]
     },
     "execution_count": 8,
     "metadata": {},
     "output_type": "execute_result"
    }
   ],
   "source": [
    "customer_data"
   ]
  },
  {
   "cell_type": "code",
   "execution_count": 12,
   "id": "56d39e64",
   "metadata": {},
   "outputs": [],
   "source": [
    "customer_data['Income'].fillna(customer_data['Income'].mean(), inplace= True)"
   ]
  },
  {
   "cell_type": "code",
   "execution_count": 15,
   "id": "34ff9f9f",
   "metadata": {},
   "outputs": [],
   "source": [
    "def cust_cat(income):\n",
    "    if income<60000:\n",
    "        return 'Low'\n",
    "    elif (income>60000)&(income<80000):\n",
    "        return \"Medium\"\n",
    "    else:\n",
    "        return 'High'"
   ]
  },
  {
   "cell_type": "code",
   "execution_count": 14,
   "id": "23ba336f",
   "metadata": {},
   "outputs": [],
   "source": [
    "customer_data['Income_Category'] = customer_data['Income'].apply(cust_cat)\n"
   ]
  },
  {
   "cell_type": "code",
   "execution_count": 16,
   "id": "9669dff0",
   "metadata": {},
   "outputs": [
    {
     "data": {
      "text/html": [
       "<div>\n",
       "<style scoped>\n",
       "    .dataframe tbody tr th:only-of-type {\n",
       "        vertical-align: middle;\n",
       "    }\n",
       "\n",
       "    .dataframe tbody tr th {\n",
       "        vertical-align: top;\n",
       "    }\n",
       "\n",
       "    .dataframe thead th {\n",
       "        text-align: right;\n",
       "    }\n",
       "</style>\n",
       "<table border=\"1\" class=\"dataframe\">\n",
       "  <thead>\n",
       "    <tr style=\"text-align: right;\">\n",
       "      <th></th>\n",
       "      <th>CustomerID</th>\n",
       "      <th>Income</th>\n",
       "      <th>Income_Category</th>\n",
       "    </tr>\n",
       "  </thead>\n",
       "  <tbody>\n",
       "    <tr>\n",
       "      <th>0</th>\n",
       "      <td>1</td>\n",
       "      <td>50000.0</td>\n",
       "      <td>Low</td>\n",
       "    </tr>\n",
       "    <tr>\n",
       "      <th>1</th>\n",
       "      <td>2</td>\n",
       "      <td>62500.0</td>\n",
       "      <td>Medium</td>\n",
       "    </tr>\n",
       "    <tr>\n",
       "      <th>2</th>\n",
       "      <td>3</td>\n",
       "      <td>75000.0</td>\n",
       "      <td>Medium</td>\n",
       "    </tr>\n",
       "    <tr>\n",
       "      <th>3</th>\n",
       "      <td>4</td>\n",
       "      <td>62500.0</td>\n",
       "      <td>Medium</td>\n",
       "    </tr>\n",
       "  </tbody>\n",
       "</table>\n",
       "</div>"
      ],
      "text/plain": [
       "   CustomerID   Income Income_Category\n",
       "0           1  50000.0             Low\n",
       "1           2  62500.0          Medium\n",
       "2           3  75000.0          Medium\n",
       "3           4  62500.0          Medium"
      ]
     },
     "execution_count": 16,
     "metadata": {},
     "output_type": "execute_result"
    }
   ],
   "source": [
    "customer_data"
   ]
  },
  {
   "cell_type": "code",
   "execution_count": null,
   "id": "e8601d87",
   "metadata": {},
   "outputs": [],
   "source": []
  },
  {
   "cell_type": "markdown",
   "id": "470fc6a6-846c-4fc9-bb36-9b64ffb94398",
   "metadata": {},
   "source": [
    "Q3. Consider a DataFrame named order_data with columns 'Customer', 'Product', and 'Quantity'. How would you find the total quantity of each product sold, and then identify the product with the highest total sales?"
   ]
  },
  {
   "cell_type": "code",
   "execution_count": 17,
   "id": "35d9032b-ce2b-47bb-8898-b2eb1a82578c",
   "metadata": {
    "tags": []
   },
   "outputs": [],
   "source": [
    "# Sample Data\n",
    "import pandas as pd\n",
    "\n",
    "data = {'Customer': ['A', 'B', 'A', 'B', 'A'],\n",
    "        'Product': ['X', 'Y', 'X', 'Y', 'Z'],\n",
    "        'Quantity': [10, 5, 8, 12, 15]}\n",
    "order_data = pd.DataFrame(data)\n"
   ]
  },
  {
   "cell_type": "code",
   "execution_count": 11,
   "id": "bdb533ac-1c61-4945-8488-f837e673c6e8",
   "metadata": {},
   "outputs": [
    {
     "data": {
      "text/html": [
       "<div>\n",
       "<style scoped>\n",
       "    .dataframe tbody tr th:only-of-type {\n",
       "        vertical-align: middle;\n",
       "    }\n",
       "\n",
       "    .dataframe tbody tr th {\n",
       "        vertical-align: top;\n",
       "    }\n",
       "\n",
       "    .dataframe thead th {\n",
       "        text-align: right;\n",
       "    }\n",
       "</style>\n",
       "<table border=\"1\" class=\"dataframe\">\n",
       "  <thead>\n",
       "    <tr style=\"text-align: right;\">\n",
       "      <th></th>\n",
       "      <th>Customer</th>\n",
       "      <th>Product</th>\n",
       "      <th>Quantity</th>\n",
       "    </tr>\n",
       "  </thead>\n",
       "  <tbody>\n",
       "    <tr>\n",
       "      <th>0</th>\n",
       "      <td>A</td>\n",
       "      <td>X</td>\n",
       "      <td>10</td>\n",
       "    </tr>\n",
       "    <tr>\n",
       "      <th>1</th>\n",
       "      <td>B</td>\n",
       "      <td>Y</td>\n",
       "      <td>5</td>\n",
       "    </tr>\n",
       "    <tr>\n",
       "      <th>2</th>\n",
       "      <td>A</td>\n",
       "      <td>X</td>\n",
       "      <td>8</td>\n",
       "    </tr>\n",
       "    <tr>\n",
       "      <th>3</th>\n",
       "      <td>B</td>\n",
       "      <td>Y</td>\n",
       "      <td>12</td>\n",
       "    </tr>\n",
       "    <tr>\n",
       "      <th>4</th>\n",
       "      <td>A</td>\n",
       "      <td>Z</td>\n",
       "      <td>15</td>\n",
       "    </tr>\n",
       "  </tbody>\n",
       "</table>\n",
       "</div>"
      ],
      "text/plain": [
       "  Customer Product  Quantity\n",
       "0        A       X        10\n",
       "1        B       Y         5\n",
       "2        A       X         8\n",
       "3        B       Y        12\n",
       "4        A       Z        15"
      ]
     },
     "execution_count": 11,
     "metadata": {},
     "output_type": "execute_result"
    }
   ],
   "source": [
    "order_data"
   ]
  },
  {
   "cell_type": "code",
   "execution_count": 18,
   "id": "962eee0e",
   "metadata": {},
   "outputs": [],
   "source": [
    "total=order_data.groupby('Product')['Quantity'].sum()\n"
   ]
  },
  {
   "cell_type": "code",
   "execution_count": 19,
   "id": "a75b9e17",
   "metadata": {},
   "outputs": [
    {
     "data": {
      "text/plain": [
       "Product\n",
       "X    18\n",
       "Y    17\n",
       "Z    15\n",
       "Name: Quantity, dtype: int64"
      ]
     },
     "execution_count": 19,
     "metadata": {},
     "output_type": "execute_result"
    }
   ],
   "source": [
    "total"
   ]
  },
  {
   "cell_type": "code",
   "execution_count": 20,
   "id": "050ec7c1",
   "metadata": {},
   "outputs": [
    {
     "data": {
      "text/plain": [
       "'X'"
      ]
     },
     "execution_count": 20,
     "metadata": {},
     "output_type": "execute_result"
    }
   ],
   "source": [
    "total.idxmax()"
   ]
  },
  {
   "cell_type": "code",
   "execution_count": null,
   "id": "a4d874a4",
   "metadata": {
    "collapsed": true
   },
   "outputs": [],
   "source": []
  },
  {
   "cell_type": "markdown",
   "id": "caa124ac-080d-4849-8f7e-3dd45bcc91a4",
   "metadata": {},
   "source": [
    "Q4. You have two DataFrames, student_info with columns 'StudentID' and 'Name', and grades_info with columns 'StudentID' and 'Grade'. How would you merge these DataFrames to obtain a single DataFrame containing both student information and their grades?"
   ]
  },
  {
   "cell_type": "code",
   "execution_count": 21,
   "id": "40a06d1b-3014-47a4-b585-4999ab31de4f",
   "metadata": {
    "tags": []
   },
   "outputs": [],
   "source": [
    "# Sample Data\n",
    "import pandas as pd\n",
    "\n",
    "student_info = pd.DataFrame({'StudentID': [1, 2, 3], 'Name': ['Alice', 'Bob', 'Charlie']})\n",
    "grades_info = pd.DataFrame({'StudentID': [2, 3, 4], 'Grade': [85, 90, 78]})\n",
    "\n"
   ]
  },
  {
   "cell_type": "code",
   "execution_count": 22,
   "id": "6aa38418-66b1-4804-adf1-fedc8815f968",
   "metadata": {},
   "outputs": [
    {
     "data": {
      "text/html": [
       "<div>\n",
       "<style scoped>\n",
       "    .dataframe tbody tr th:only-of-type {\n",
       "        vertical-align: middle;\n",
       "    }\n",
       "\n",
       "    .dataframe tbody tr th {\n",
       "        vertical-align: top;\n",
       "    }\n",
       "\n",
       "    .dataframe thead th {\n",
       "        text-align: right;\n",
       "    }\n",
       "</style>\n",
       "<table border=\"1\" class=\"dataframe\">\n",
       "  <thead>\n",
       "    <tr style=\"text-align: right;\">\n",
       "      <th></th>\n",
       "      <th>StudentID</th>\n",
       "      <th>Name</th>\n",
       "    </tr>\n",
       "  </thead>\n",
       "  <tbody>\n",
       "    <tr>\n",
       "      <th>0</th>\n",
       "      <td>1</td>\n",
       "      <td>Alice</td>\n",
       "    </tr>\n",
       "    <tr>\n",
       "      <th>1</th>\n",
       "      <td>2</td>\n",
       "      <td>Bob</td>\n",
       "    </tr>\n",
       "    <tr>\n",
       "      <th>2</th>\n",
       "      <td>3</td>\n",
       "      <td>Charlie</td>\n",
       "    </tr>\n",
       "  </tbody>\n",
       "</table>\n",
       "</div>"
      ],
      "text/plain": [
       "   StudentID     Name\n",
       "0          1    Alice\n",
       "1          2      Bob\n",
       "2          3  Charlie"
      ]
     },
     "execution_count": 22,
     "metadata": {},
     "output_type": "execute_result"
    }
   ],
   "source": [
    "student_info"
   ]
  },
  {
   "cell_type": "code",
   "execution_count": 23,
   "id": "47e279e2",
   "metadata": {
    "scrolled": true
   },
   "outputs": [
    {
     "data": {
      "text/html": [
       "<div>\n",
       "<style scoped>\n",
       "    .dataframe tbody tr th:only-of-type {\n",
       "        vertical-align: middle;\n",
       "    }\n",
       "\n",
       "    .dataframe tbody tr th {\n",
       "        vertical-align: top;\n",
       "    }\n",
       "\n",
       "    .dataframe thead th {\n",
       "        text-align: right;\n",
       "    }\n",
       "</style>\n",
       "<table border=\"1\" class=\"dataframe\">\n",
       "  <thead>\n",
       "    <tr style=\"text-align: right;\">\n",
       "      <th></th>\n",
       "      <th>StudentID</th>\n",
       "      <th>Grade</th>\n",
       "    </tr>\n",
       "  </thead>\n",
       "  <tbody>\n",
       "    <tr>\n",
       "      <th>0</th>\n",
       "      <td>2</td>\n",
       "      <td>85</td>\n",
       "    </tr>\n",
       "    <tr>\n",
       "      <th>1</th>\n",
       "      <td>3</td>\n",
       "      <td>90</td>\n",
       "    </tr>\n",
       "    <tr>\n",
       "      <th>2</th>\n",
       "      <td>4</td>\n",
       "      <td>78</td>\n",
       "    </tr>\n",
       "  </tbody>\n",
       "</table>\n",
       "</div>"
      ],
      "text/plain": [
       "   StudentID  Grade\n",
       "0          2     85\n",
       "1          3     90\n",
       "2          4     78"
      ]
     },
     "execution_count": 23,
     "metadata": {},
     "output_type": "execute_result"
    }
   ],
   "source": [
    "grades_info"
   ]
  },
  {
   "cell_type": "code",
   "execution_count": 24,
   "id": "a1e5c16f",
   "metadata": {},
   "outputs": [
    {
     "data": {
      "text/html": [
       "<div>\n",
       "<style scoped>\n",
       "    .dataframe tbody tr th:only-of-type {\n",
       "        vertical-align: middle;\n",
       "    }\n",
       "\n",
       "    .dataframe tbody tr th {\n",
       "        vertical-align: top;\n",
       "    }\n",
       "\n",
       "    .dataframe thead th {\n",
       "        text-align: right;\n",
       "    }\n",
       "</style>\n",
       "<table border=\"1\" class=\"dataframe\">\n",
       "  <thead>\n",
       "    <tr style=\"text-align: right;\">\n",
       "      <th></th>\n",
       "      <th>StudentID</th>\n",
       "      <th>Name</th>\n",
       "      <th>Grade</th>\n",
       "    </tr>\n",
       "  </thead>\n",
       "  <tbody>\n",
       "    <tr>\n",
       "      <th>0</th>\n",
       "      <td>1</td>\n",
       "      <td>Alice</td>\n",
       "      <td>NaN</td>\n",
       "    </tr>\n",
       "    <tr>\n",
       "      <th>1</th>\n",
       "      <td>2</td>\n",
       "      <td>Bob</td>\n",
       "      <td>85.0</td>\n",
       "    </tr>\n",
       "    <tr>\n",
       "      <th>2</th>\n",
       "      <td>3</td>\n",
       "      <td>Charlie</td>\n",
       "      <td>90.0</td>\n",
       "    </tr>\n",
       "    <tr>\n",
       "      <th>3</th>\n",
       "      <td>4</td>\n",
       "      <td>NaN</td>\n",
       "      <td>78.0</td>\n",
       "    </tr>\n",
       "  </tbody>\n",
       "</table>\n",
       "</div>"
      ],
      "text/plain": [
       "   StudentID     Name  Grade\n",
       "0          1    Alice    NaN\n",
       "1          2      Bob   85.0\n",
       "2          3  Charlie   90.0\n",
       "3          4      NaN   78.0"
      ]
     },
     "execution_count": 24,
     "metadata": {},
     "output_type": "execute_result"
    }
   ],
   "source": [
    "pd.merge(student_info,grades_info,on='StudentID',how='outer')"
   ]
  },
  {
   "cell_type": "code",
   "execution_count": null,
   "id": "bd1f131e",
   "metadata": {},
   "outputs": [],
   "source": []
  },
  {
   "cell_type": "markdown",
   "id": "6d0b0cd1-d159-4c69-a8a6-c251628d6d24",
   "metadata": {},
   "source": [
    "Q5. Suppose you have a DataFrame named temperature_data with columns 'Timestamp' and 'Temperature'. How would you filter the data to include only temperatures above 25 degrees Celsius and then sort the results by timestamp?"
   ]
  },
  {
   "cell_type": "code",
   "execution_count": 25,
   "id": "5c6e8180-1b00-4dc4-b7ce-ace1fe448911",
   "metadata": {
    "tags": []
   },
   "outputs": [],
   "source": [
    "# Sample Data\n",
    "import pandas as pd\n",
    "\n",
    "data = {'Timestamp': ['2023-01-01', '2023-01-02', '2023-01-03'],\n",
    "        'Temperature': [28, 26, 30]}\n",
    "temperature_data = pd.DataFrame(data)\n",
    "\n"
   ]
  },
  {
   "cell_type": "code",
   "execution_count": 26,
   "id": "1bcfeef0-8408-4c03-9d30-6df61d02b17d",
   "metadata": {},
   "outputs": [
    {
     "data": {
      "text/html": [
       "<div>\n",
       "<style scoped>\n",
       "    .dataframe tbody tr th:only-of-type {\n",
       "        vertical-align: middle;\n",
       "    }\n",
       "\n",
       "    .dataframe tbody tr th {\n",
       "        vertical-align: top;\n",
       "    }\n",
       "\n",
       "    .dataframe thead th {\n",
       "        text-align: right;\n",
       "    }\n",
       "</style>\n",
       "<table border=\"1\" class=\"dataframe\">\n",
       "  <thead>\n",
       "    <tr style=\"text-align: right;\">\n",
       "      <th></th>\n",
       "      <th>Timestamp</th>\n",
       "      <th>Temperature</th>\n",
       "    </tr>\n",
       "  </thead>\n",
       "  <tbody>\n",
       "    <tr>\n",
       "      <th>0</th>\n",
       "      <td>2023-01-01</td>\n",
       "      <td>28</td>\n",
       "    </tr>\n",
       "    <tr>\n",
       "      <th>1</th>\n",
       "      <td>2023-01-02</td>\n",
       "      <td>26</td>\n",
       "    </tr>\n",
       "    <tr>\n",
       "      <th>2</th>\n",
       "      <td>2023-01-03</td>\n",
       "      <td>30</td>\n",
       "    </tr>\n",
       "  </tbody>\n",
       "</table>\n",
       "</div>"
      ],
      "text/plain": [
       "    Timestamp  Temperature\n",
       "0  2023-01-01           28\n",
       "1  2023-01-02           26\n",
       "2  2023-01-03           30"
      ]
     },
     "execution_count": 26,
     "metadata": {},
     "output_type": "execute_result"
    }
   ],
   "source": [
    "temperature_data"
   ]
  },
  {
   "cell_type": "code",
   "execution_count": null,
   "id": "a3d343c6",
   "metadata": {},
   "outputs": [],
   "source": []
  },
  {
   "cell_type": "markdown",
   "id": "fea1f639-d077-4950-ae8f-9e61f8b69efe",
   "metadata": {},
   "source": [
    "Q6. Given a DataFrame sales_data with columns 'Product' and 'Revenue', how would you calculate the total revenue for each product and then create a new column 'Revenue_Percentage' representing the percentage of total revenue that each product contributes?"
   ]
  },
  {
   "cell_type": "code",
   "execution_count": 28,
   "id": "2f595c41-69b6-4210-9845-2eccda18a499",
   "metadata": {
    "tags": []
   },
   "outputs": [],
   "source": [
    "# Sample Data\n",
    "import pandas as pd\n",
    "\n",
    "data = {'Product': ['A', 'B', 'C', 'A', 'B'],\n",
    "        'Revenue': [1000, 1500, 800, 1200, 2000]}\n",
    "sales_data = pd.DataFrame(data)\n",
    "\n",
    "\n"
   ]
  },
  {
   "cell_type": "code",
   "execution_count": 29,
   "id": "1e6e0254-6948-4fd2-876c-3a720ab2f033",
   "metadata": {},
   "outputs": [],
   "source": [
    "total_revenue=sales_data.groupby('Product')['Revenue'].sum()"
   ]
  },
  {
   "cell_type": "code",
   "execution_count": 30,
   "id": "324e473c",
   "metadata": {},
   "outputs": [
    {
     "data": {
      "text/plain": [
       "0    1000\n",
       "1    1500\n",
       "2     800\n",
       "3    1200\n",
       "4    2000\n",
       "Name: Revenue, dtype: int64"
      ]
     },
     "execution_count": 30,
     "metadata": {},
     "output_type": "execute_result"
    }
   ],
   "source": [
    "sales_data.Revenue"
   ]
  },
  {
   "cell_type": "code",
   "execution_count": 31,
   "id": "1d679c52",
   "metadata": {},
   "outputs": [
    {
     "data": {
      "text/plain": [
       "Product\n",
       "A    2200\n",
       "B    3500\n",
       "C     800\n",
       "A    2200\n",
       "B    3500\n",
       "Name: Revenue, dtype: int64"
      ]
     },
     "execution_count": 31,
     "metadata": {},
     "output_type": "execute_result"
    }
   ],
   "source": [
    "total_revenue[sales_data['Product']]"
   ]
  },
  {
   "cell_type": "code",
   "execution_count": null,
   "id": "fb48df34",
   "metadata": {},
   "outputs": [],
   "source": [
    "sales_data['Product']"
   ]
  },
  {
   "cell_type": "code",
   "execution_count": null,
   "id": "78766c44",
   "metadata": {},
   "outputs": [],
   "source": [
    "total_revenue['A']"
   ]
  },
  {
   "cell_type": "code",
   "execution_count": 32,
   "id": "45808504",
   "metadata": {},
   "outputs": [
    {
     "data": {
      "text/plain": [
       "array([2200, 3500,  800, 2200, 3500])"
      ]
     },
     "execution_count": 32,
     "metadata": {},
     "output_type": "execute_result"
    }
   ],
   "source": [
    "total_revenue[sales_data['Product']].values"
   ]
  },
  {
   "cell_type": "code",
   "execution_count": 33,
   "id": "85aa97f6",
   "metadata": {},
   "outputs": [
    {
     "data": {
      "text/plain": [
       "0    0.454545\n",
       "1    0.428571\n",
       "2    1.000000\n",
       "3    0.545455\n",
       "4    0.571429\n",
       "Name: Revenue, dtype: float64"
      ]
     },
     "execution_count": 33,
     "metadata": {},
     "output_type": "execute_result"
    }
   ],
   "source": [
    "sales_data.Revenue/total_revenue[sales_data['Product']].values"
   ]
  },
  {
   "cell_type": "markdown",
   "id": "f3e89924-adf2-4130-b626-49d06cbd95fb",
   "metadata": {},
   "source": [
    "Q7. You have a DataFrame named sensor_data with columns 'Timestamp', 'Sensor_A', and 'Sensor_B'. How would you calculate the average readings of both sensors for each day and identify the day with the highest combined average reading?"
   ]
  },
  {
   "cell_type": "code",
   "execution_count": 34,
   "id": "26ad1412-9a69-43e7-a48e-6dbf4f0ab62b",
   "metadata": {
    "tags": []
   },
   "outputs": [],
   "source": [
    "# Sample Data\n",
    "import pandas as pd\n",
    "\n",
    "data = {'Timestamp': ['2023-01-01', '2023-01-01', '2023-01-02', '2023-01-02'],\n",
    "        'Sensor_A': [20, 25, 18, 22],\n",
    "        'Sensor_B': [15, 30, 20, 25]}\n",
    "sensor_data = pd.DataFrame(data)"
   ]
  },
  {
   "cell_type": "raw",
   "id": "9e14d908",
   "metadata": {},
   "source": [
    "sensor_data"
   ]
  },
  {
   "cell_type": "code",
   "execution_count": 35,
   "id": "8d96fce1",
   "metadata": {},
   "outputs": [],
   "source": [
    "sensor_data['Timestamp']=pd.to_datetime(sensor_data['Timestamp'])"
   ]
  },
  {
   "cell_type": "code",
   "execution_count": 36,
   "id": "a39403e8",
   "metadata": {},
   "outputs": [],
   "source": [
    "avg=sensor_data.groupby('Timestamp')[['Sensor_A','Sensor_B']].mean()"
   ]
  },
  {
   "cell_type": "code",
   "execution_count": 37,
   "id": "f16f8533",
   "metadata": {},
   "outputs": [],
   "source": [
    "highest_avg=avg.sum(axis=1).idxmax()"
   ]
  },
  {
   "cell_type": "code",
   "execution_count": 38,
   "id": "34c1d22c",
   "metadata": {},
   "outputs": [
    {
     "data": {
      "text/plain": [
       "Timestamp('2023-01-01 00:00:00')"
      ]
     },
     "execution_count": 38,
     "metadata": {},
     "output_type": "execute_result"
    }
   ],
   "source": [
    "avg.sum(axis=1).idxmax()"
   ]
  },
  {
   "cell_type": "code",
   "execution_count": 39,
   "id": "84f15c7a",
   "metadata": {},
   "outputs": [
    {
     "data": {
      "text/plain": [
       "2023"
      ]
     },
     "execution_count": 39,
     "metadata": {},
     "output_type": "execute_result"
    }
   ],
   "source": [
    "avg.sum(axis=1).idxmax().year"
   ]
  },
  {
   "cell_type": "code",
   "execution_count": null,
   "id": "0c365dcc",
   "metadata": {},
   "outputs": [],
   "source": []
  }
 ],
 "metadata": {
  "kernelspec": {
   "display_name": "Python 3 (ipykernel)",
   "language": "python",
   "name": "python3"
  },
  "language_info": {
   "codemirror_mode": {
    "name": "ipython",
    "version": 3
   },
   "file_extension": ".py",
   "mimetype": "text/x-python",
   "name": "python",
   "nbconvert_exporter": "python",
   "pygments_lexer": "ipython3",
   "version": "3.11.5"
  }
 },
 "nbformat": 4,
 "nbformat_minor": 5
}
